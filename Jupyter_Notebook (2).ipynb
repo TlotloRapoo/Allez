{
  "metadata": {
    "kernelspec": {
      "name": "python",
      "display_name": "Pyolite",
      "language": "python"
    },
    "language_info": {
      "codemirror_mode": {
        "name": "python",
        "version": 3
      },
      "file_extension": ".py",
      "mimetype": "text/x-python",
      "name": "python",
      "nbconvert_exporter": "python",
      "pygments_lexer": "ipython3",
      "version": "3.8"
    }
  },
  "nbformat_minor": 4,
  "nbformat": 4,
  "cells": [
    {
      "cell_type": "markdown",
      "source": "<center>\n    <img src=\"https://s3-api.us-geo.objectstorage.softlayer.net/cf-courses-data/CognitiveClass/Logos/organization_logo/organization_logo.png\" width=\"300\" alt=\"cognitiveclass.ai logo\"  />\n</center>\n",
      "metadata": {}
    },
    {
      "cell_type": "markdown",
      "source": "#### Add your code below following the instructions given in the course\n",
      "metadata": {}
    },
    {
      "cell_type": "markdown",
      "source": "## My Jupyter Notebook on IBM Watson Studio",
      "metadata": {}
    },
    {
      "cell_type": "markdown",
      "source": "Name: **Tlotlo Rapoo**\nData Analyst",
      "metadata": {}
    },
    {
      "cell_type": "markdown",
      "source": "I am interested in data science because learning its fundamental concepts and applications <br> will supplement the data analysis skills that I have already acquired through a data analytics course offered by Google.\n",
      "metadata": {}
    },
    {
      "cell_type": "markdown",
      "source": "##### The sum of 3 and 7",
      "metadata": {}
    },
    {
      "cell_type": "code",
      "source": "3+7",
      "metadata": {
        "trusted": true
      },
      "execution_count": 1,
      "outputs": [
        {
          "execution_count": 1,
          "output_type": "execute_result",
          "data": {
            "text/plain": "10"
          },
          "metadata": {}
        }
      ]
    },
    {
      "cell_type": "markdown",
      "source": "---\n1. <font color=pink> The start. </font>\n2. The middle\n3. The End\n\n* Will this make a bullet?\n* Let us see. <br>\n---\n\n<br>\n",
      "metadata": {}
    },
    {
      "cell_type": "code",
      "source": "",
      "metadata": {},
      "execution_count": null,
      "outputs": []
    }
  ]
}